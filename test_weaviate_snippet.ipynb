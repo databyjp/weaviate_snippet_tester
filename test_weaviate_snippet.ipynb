{
 "cells": [
  {
   "cell_type": "markdown",
   "metadata": {},
   "source": [
    "# For Python code\n",
    "\n",
    "## Instantiation\n",
    "\n",
    "Connect to a local client or the WCS client below first."
   ]
  },
  {
   "cell_type": "code",
   "execution_count": 1,
   "metadata": {},
   "outputs": [],
   "source": [
    "import weaviate\n",
    "import os\n",
    "import json\n",
    "\n",
    "api_headers = {\n",
    "    \"X-Cohere-Api-Key\": os.environ[\"COHERE_APIKEY\"],\n",
    "    \"X-HuggingFace-Api-Key\": os.environ[\"HUGGINGFACE_APIKEY\"],\n",
    "    \"X-OpenAI-Api-Key\": os.environ[\"OPENAI_APIKEY\"],    \n",
    "}\n",
    "\n",
    "\n",
    "def connect_local():\n",
    "    client = weaviate.Client(\n",
    "        \"http://localhost:8080\",\n",
    "        additional_headers=api_headers\n",
    "    )\n",
    "    return client\n",
    "\n",
    "\n",
    "def connect_edu_demo(admin_access=False):\n",
    "    if admin_access:\n",
    "        auth_credentials = weaviate.AuthClientPassword(\n",
    "            username=os.environ[\"WCS_USERNAME\"],\n",
    "            password=os.environ[\"WCS_PASSWORD\"],\n",
    "        )   \n",
    "    else:\n",
    "        auth_credentials = weaviate.AuthApiKey(api_key=\"learn-weaviate\")\n",
    "\n",
    "    # Instantiate the client with the auth config\n",
    "    client = weaviate.Client(\n",
    "        url=\"https://edu-demo.weaviate.network\",\n",
    "        auth_client_secret=auth_credentials,\n",
    "        additional_headers=api_headers\n",
    "    )\n",
    "    return client"
   ]
  },
  {
   "cell_type": "markdown",
   "metadata": {},
   "source": [
    "Connect to either the local or WCS instance of Weaviate"
   ]
  },
  {
   "cell_type": "code",
   "execution_count": 2,
   "metadata": {},
   "outputs": [
    {
     "data": {
      "text/plain": [
       "True"
      ]
     },
     "execution_count": 2,
     "metadata": {},
     "output_type": "execute_result"
    }
   ],
   "source": [
    "client = connect_local()\n",
    "# client = connect_edu_demo()\n",
    "client.is_ready()"
   ]
  },
  {
   "cell_type": "markdown",
   "metadata": {},
   "source": [
    "### Test away!\n",
    "\n",
    "And test your code below :) "
   ]
  },
  {
   "cell_type": "code",
   "execution_count": null,
   "metadata": {},
   "outputs": [],
   "source": []
  }
 ],
 "metadata": {
  "kernelspec": {
   "display_name": ".venv",
   "language": "python",
   "name": "python3"
  },
  "language_info": {
   "codemirror_mode": {
    "name": "ipython",
    "version": 3
   },
   "file_extension": ".py",
   "mimetype": "text/x-python",
   "name": "python",
   "nbconvert_exporter": "python",
   "pygments_lexer": "ipython3",
   "version": "3.10.12"
  },
  "orig_nbformat": 4
 },
 "nbformat": 4,
 "nbformat_minor": 2
}
