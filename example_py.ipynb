{
 "cells": [
  {
   "cell_type": "markdown",
   "metadata": {},
   "source": [
    "# For Python code\n",
    "\n",
    "## Instantiation\n",
    "\n",
    "Connect to a local client or the WCS client below first."
   ]
  },
  {
   "cell_type": "code",
   "execution_count": 1,
   "metadata": {
    "ExecuteTime": {
     "end_time": "2023-08-06T17:43:43.112542Z",
     "start_time": "2023-08-06T17:43:43.004562Z"
    }
   },
   "outputs": [],
   "source": [
    "import weaviate\n",
    "import os\n",
    "import json\n",
    "\n",
    "api_headers = {\n",
    "    \"X-Cohere-Api-Key\": os.environ[\"COHERE_APIKEY\"],\n",
    "    \"X-HuggingFace-Api-Key\": os.environ[\"HUGGINGFACE_APIKEY\"],\n",
    "    \"X-OpenAI-Api-Key\": os.environ[\"OPENAI_APIKEY\"],    \n",
    "}\n",
    "\n",
    "\n",
    "def connect_cluster():\n",
    "    client = weaviate.Client(\n",
    "        \"http://localhost:8080\",\n",
    "        additional_headers=api_headers\n",
    "    )\n",
    "    return client\n",
    "\n",
    "\n",
    "def connect_local():\n",
    "    client = weaviate.Client(\n",
    "        \"http://localhost:8080\",\n",
    "        additional_headers=api_headers\n",
    "    )\n",
    "    return client\n",
    "\n",
    "\n",
    "def connect_edu_demo(admin_access=False):\n",
    "    if admin_access:\n",
    "        auth_credentials = weaviate.AuthClientPassword(\n",
    "            username=os.environ[\"WCS_USERNAME\"],\n",
    "            password=os.environ[\"WCS_PASSWORD\"],\n",
    "        )   \n",
    "    else:\n",
    "        auth_credentials = weaviate.AuthApiKey(api_key=\"learn-weaviate\")\n",
    "\n",
    "    # Instantiate the client with the auth config\n",
    "    client = weaviate.Client(\n",
    "        url=\"https://edu-demo.weaviate.network\",\n",
    "        auth_client_secret=auth_credentials,\n",
    "        additional_headers=api_headers\n",
    "    )\n",
    "    return client"
   ]
  },
  {
   "cell_type": "markdown",
   "metadata": {},
   "source": [
    "Connect to either the local or WCS instance of Weaviate"
   ]
  },
  {
   "cell_type": "code",
   "execution_count": 2,
   "metadata": {
    "ExecuteTime": {
     "end_time": "2023-08-06T17:43:44.768349Z",
     "start_time": "2023-08-06T17:43:43.113771Z"
    }
   },
   "outputs": [],
   "source": [
    "client = connect_local()  # For a local single-node instance\n",
    "# client = connect_cluster()  # For a local cluster\n",
    "# client = connect_edu_demo()  # For edu-demo cloud instance (with pre-populated data)\n",
    "client.is_ready()"
   ]
  },
  {
   "cell_type": "code",
   "execution_count": 3,
   "metadata": {
    "ExecuteTime": {
     "end_time": "2023-08-06T17:39:45.322862Z",
     "start_time": "2023-08-06T17:39:45.311721Z"
    }
   },
   "outputs": [
    {
     "data": {
      "text/plain": "{'classes': []}"
     },
     "execution_count": 3,
     "metadata": {},
     "output_type": "execute_result"
    }
   ],
   "source": [
    "client.schema.get()"
   ]
  },
  {
   "cell_type": "code",
   "execution_count": 3,
   "metadata": {
    "ExecuteTime": {
     "end_time": "2023-08-06T17:43:45.778285Z",
     "start_time": "2023-08-06T17:43:44.769879Z"
    }
   },
   "outputs": [
    {
     "data": {
      "text/plain": "{'data': {'Aggregate': {'JeopardyQuestion': [{'meta': {'count': 1}}]}}}"
     },
     "execution_count": 3,
     "metadata": {},
     "output_type": "execute_result"
    }
   ],
   "source": [
    "client.schema.delete_all()"
   ]
  },
  {
   "cell_type": "markdown",
   "metadata": {},
   "source": [
    "### Test away!\n",
    "\n",
    "And test your code below :) "
   ]
  },
  {
   "cell_type": "code",
   "execution_count": 5,
   "metadata": {
    "ExecuteTime": {
     "end_time": "2023-08-06T17:39:45.366119Z",
     "start_time": "2023-08-06T17:39:45.338492Z"
    }
   },
   "outputs": [],
   "source": [
    "data_object = client.(\n",
    "  \"fe5ef1b0-7c80-5d04-a245-8460384f6d4a\",\n",
    "  class_name=\"JeopardyQuestion\",\n",
    "  consistency_level=ConsistencyLevel.ALL,  # default QUORUM\n",
    ")"
   ]
  },
  {
   "cell_type": "code",
   "execution_count": 6,
   "metadata": {
    "ExecuteTime": {
     "end_time": "2023-08-06T17:39:46.546191Z",
     "start_time": "2023-08-06T17:39:45.363846Z"
    }
   },
   "outputs": [
    {
     "data": {
      "text/plain": "'2a7740a7-80c5-410c-9413-139bb5be969d'"
     },
     "execution_count": 6,
     "metadata": {},
     "output_type": "execute_result"
    }
   ],
   "source": [
    "data_object = client.data_object.get_by_id(\n",
    "  \"fe5ef1b0-7c80-5d04-a245-8460384f6d4a\",\n",
    "  class_name=\"JeopardyQuestion\",\n",
    "  consistency_level=ConsistencyLevel.ALL,  # default QUORUM\n",
    ")"
   ]
  },
  {
   "cell_type": "code",
   "execution_count": 7,
   "metadata": {
    "ExecuteTime": {
     "end_time": "2023-08-06T17:40:09.330065Z",
     "start_time": "2023-08-06T17:40:09.318986Z"
    }
   },
   "outputs": [
    {
     "data": {
      "text/plain": "{'data': {'Aggregate': {'JeopardyQuestion': [{'meta': {'count': 1}}]}}}"
     },
     "execution_count": 7,
     "metadata": {},
     "output_type": "execute_result"
    }
   ],
   "source": [
    "resp"
   ]
  },
  {
   "cell_type": "code",
   "execution_count": 9,
   "metadata": {
    "ExecuteTime": {
     "end_time": "2023-08-06T17:41:05.632907Z",
     "start_time": "2023-08-06T17:41:05.613679Z"
    }
   },
   "outputs": [
    {
     "data": {
      "text/plain": "[{'gitHash': '8a2c0c8',\n  'name': 'node1',\n  'shards': [{'class': 'JeopardyQuestion',\n    'name': 'CCllUL55szJX',\n    'objectCount': 1},\n   {'class': 'JeopardyQuestion', 'name': 'WmrfhhN8zgvA', 'objectCount': 0}],\n  'stats': {'objectCount': 1, 'shardCount': 2},\n  'status': 'HEALTHY',\n  'version': '1.20.2'},\n {'gitHash': '8a2c0c8',\n  'name': 'node2',\n  'shards': [{'class': 'JeopardyQuestion',\n    'name': 'CCllUL55szJX',\n    'objectCount': 1},\n   {'class': 'JeopardyQuestion', 'name': 'WmrfhhN8zgvA', 'objectCount': 0}],\n  'stats': {'objectCount': 1, 'shardCount': 2},\n  'status': 'HEALTHY',\n  'version': '1.20.2'}]"
     },
     "execution_count": 9,
     "metadata": {},
     "output_type": "execute_result"
    }
   ],
   "source": [
    "client.query.raw(gql_query=\"\"\"\n",
    "{\n",
    "  Get {\n",
    "    JeopardyQuestion (consistencyLevel: ONE) {\n",
    "      question\n",
    "      _additional {\n",
    "        isConsistent\n",
    "      }\n",
    "    }\n",
    "  }\n",
    "}\n",
    "\"\"\")"
   ]
  },
  {
   "cell_type": "code",
   "execution_count": null,
   "metadata": {},
   "outputs": [],
   "source": []
  }
 ],
 "metadata": {
  "kernelspec": {
   "display_name": ".venv",
   "language": "python",
   "name": "python3"
  },
  "language_info": {
   "codemirror_mode": {
    "name": "ipython",
    "version": 3
   },
   "file_extension": ".py",
   "mimetype": "text/x-python",
   "name": "python",
   "nbconvert_exporter": "python",
   "pygments_lexer": "ipython3",
   "version": "3.10.12"
  },
  "orig_nbformat": 4
 },
 "nbformat": 4,
 "nbformat_minor": 2
}
